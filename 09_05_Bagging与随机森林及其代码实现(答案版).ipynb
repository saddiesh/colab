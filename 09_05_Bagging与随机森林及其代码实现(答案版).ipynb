{
  "cells": [
    {
      "cell_type": "markdown",
      "metadata": {
        "id": "view-in-github",
        "colab_type": "text"
      },
      "source": [
        "<a href=\"https://colab.research.google.com/github/saddiesh/colab/blob/main/09_05_Bagging%E4%B8%8E%E9%9A%8F%E6%9C%BA%E6%A3%AE%E6%9E%97%E5%8F%8A%E5%85%B6%E4%BB%A3%E7%A0%81%E5%AE%9E%E7%8E%B0(%E7%AD%94%E6%A1%88%E7%89%88).ipynb\" target=\"_parent\"><img src=\"https://colab.research.google.com/assets/colab-badge.svg\" alt=\"Open In Colab\"/></a>"
      ]
    },
    {
      "cell_type": "markdown",
      "metadata": {
        "id": "WexeWAkCz6Yn"
      },
      "source": [
        "# bagging"
      ]
    },
    {
      "cell_type": "code",
      "execution_count": 1,
      "metadata": {
        "id": "my6gXgAbz6Ys"
      },
      "outputs": [],
      "source": [
        "from sklearn.ensemble import VotingClassifier\n",
        "from sklearn.ensemble import RandomForestClassifier\n",
        "from sklearn.ensemble import BaggingClassifier\n",
        "from sklearn.linear_model import LogisticRegression\n",
        "from sklearn.svm import SVC\n",
        "from sklearn.datasets import load_iris\n",
        "from sklearn.tree import DecisionTreeClassifier\n",
        "from sklearn.metrics import accuracy_score\n",
        "from sklearn.model_selection import train_test_split\n",
        "import numpy as np"
      ]
    },
    {
      "cell_type": "code",
      "execution_count": 2,
      "metadata": {
        "id": "M0mppEx2z6Yt"
      },
      "outputs": [],
      "source": [
        "iris = load_iris()\n",
        "X = iris.data\n",
        "y = iris.target"
      ]
    },
    {
      "cell_type": "code",
      "source": [
        "X[1]"
      ],
      "metadata": {
        "colab": {
          "base_uri": "https://localhost:8080/"
        },
        "id": "CYMBcVMY0M_D",
        "outputId": "31ff4477-b905-4a2a-84e8-262cf692d7f5"
      },
      "execution_count": 6,
      "outputs": [
        {
          "output_type": "execute_result",
          "data": {
            "text/plain": [
              "array([4.9, 3. , 1.4, 0.2])"
            ]
          },
          "metadata": {},
          "execution_count": 6
        }
      ]
    },
    {
      "cell_type": "code",
      "source": [
        "X.shape"
      ],
      "metadata": {
        "colab": {
          "base_uri": "https://localhost:8080/"
        },
        "id": "8int9nse0XsP",
        "outputId": "2922816e-10c7-4d57-eded-efa3aa188dfc"
      },
      "execution_count": 7,
      "outputs": [
        {
          "output_type": "execute_result",
          "data": {
            "text/plain": [
              "(150, 4)"
            ]
          },
          "metadata": {},
          "execution_count": 7
        }
      ]
    },
    {
      "cell_type": "markdown",
      "metadata": {
        "id": "Cv1XEUGLz6Yt"
      },
      "source": [
        "#### bootstrap = True 为bagging，bootstrap=False为pasting\n",
        "#### max_samples设置为整数表示的就是采样的样本数，设置为浮点数表示的是max_samples*x.shape[0]"
      ]
    },
    {
      "cell_type": "code",
      "execution_count": 14,
      "metadata": {
        "id": "Y8SoS7vpz6Yu"
      },
      "outputs": [],
      "source": [
        "bag_clf = BaggingClassifier(\n",
        "    SVC(),\n",
        "    n_estimators=500, max_samples=1.0, bootstrap=True, n_jobs=-1,\n",
        "    oob_score=True\n",
        ")"
      ]
    },
    {
      "cell_type": "code",
      "execution_count": 15,
      "metadata": {
        "colab": {
          "base_uri": "https://localhost:8080/"
        },
        "id": "ETisQcsZz6Yu",
        "outputId": "da87eb78-4fd3-449b-957c-82468cf1b353"
      },
      "outputs": [
        {
          "output_type": "stream",
          "name": "stdout",
          "text": [
            "BaggingClassifier = 0.9733333333333334\n",
            "0.96\n"
          ]
        }
      ],
      "source": [
        "bag_clf.fit(X,y)\n",
        "y_hat = bag_clf.predict(X)\n",
        "print(bag_clf.__class__.__name__,'=',accuracy_score(y,y_hat))\n",
        "print(bag_clf.oob_score_)"
      ]
    },
    {
      "cell_type": "markdown",
      "metadata": {
        "id": "W0bQ8eFFz6Yv"
      },
      "source": [
        "# 如果基分类器是决策树，那么就是随机森林"
      ]
    },
    {
      "cell_type": "code",
      "execution_count": 16,
      "metadata": {
        "colab": {
          "base_uri": "https://localhost:8080/"
        },
        "id": "db5Z61Xdz6Yw",
        "outputId": "5e62943d-8cc7-4b02-de6b-9e1a399135fa"
      },
      "outputs": [
        {
          "output_type": "stream",
          "name": "stdout",
          "text": [
            "BaggingClassifier = 1.0\n"
          ]
        }
      ],
      "source": [
        "bag_clf = BaggingClassifier(\n",
        "    DecisionTreeClassifier(splitter=\"random\", max_leaf_nodes=16),\n",
        "    n_estimators=500, max_samples=1.0, bootstrap=True, n_jobs=-1\n",
        ")\n",
        "bag_clf.fit(X,y)\n",
        "y_hat = bag_clf.predict(X)\n",
        "print(bag_clf.__class__.__name__,'=',accuracy_score(y,y_hat))"
      ]
    },
    {
      "cell_type": "markdown",
      "metadata": {
        "id": "2BGlKajtz6Yx"
      },
      "source": [
        "# Sklearn也提供了直接实现随机森林的API"
      ]
    },
    {
      "cell_type": "code",
      "execution_count": 17,
      "metadata": {
        "colab": {
          "base_uri": "https://localhost:8080/"
        },
        "id": "L1eKANRFz6Yx",
        "outputId": "21fda08e-a754-44de-f9c2-3418d08d7a62"
      },
      "outputs": [
        {
          "output_type": "stream",
          "name": "stdout",
          "text": [
            "RandomForestClassifier = 1.0\n"
          ]
        }
      ],
      "source": [
        "rnd_clf = RandomForestClassifier(n_estimators=500, n_jobs=-1)\n",
        "rnd_clf.fit(X, y)\n",
        "print(rnd_clf.__class__.__name__, '=', accuracy_score(y, y_hat))"
      ]
    },
    {
      "cell_type": "code",
      "source": [],
      "metadata": {
        "id": "OMgjFB2U2ZNx"
      },
      "execution_count": null,
      "outputs": []
    }
  ],
  "metadata": {
    "kernelspec": {
      "display_name": "Python 3",
      "language": "python",
      "name": "python3"
    },
    "language_info": {
      "codemirror_mode": {
        "name": "ipython",
        "version": 3
      },
      "file_extension": ".py",
      "mimetype": "text/x-python",
      "name": "python",
      "nbconvert_exporter": "python",
      "pygments_lexer": "ipython3",
      "version": "3.6.5"
    },
    "colab": {
      "provenance": [],
      "include_colab_link": true
    }
  },
  "nbformat": 4,
  "nbformat_minor": 0
}